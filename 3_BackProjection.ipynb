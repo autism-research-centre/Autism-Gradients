{
 "metadata": {
  "kernelspec": {
   "display_name": "Python 2",
   "language": "python",
   "name": "python2"
  },
  "language_info": {
   "codemirror_mode": {
    "name": "ipython",
    "version": 2
   },
   "file_extension": ".py",
   "mimetype": "text/x-python",
   "name": "python",
   "nbconvert_exporter": "python",
   "pygments_lexer": "ipython2",
   "version": "2.7.12"
  },
  "name": "",
  "signature": "sha256:59b01620d01c90988680860ac0f11ffcddec1e899ec3ad81eb302780a7d82e09"
 },
 "nbformat": 3,
 "nbformat_minor": 0,
 "worksheets": [
  {
   "cells": [
    {
     "cell_type": "markdown",
     "metadata": {},
     "source": [
      "## Step 3 - Back project the embeddings to individuals\n",
      "\n",
      "\n",
      "#####  written by R.A.I. Bethlehem, D. Margulies and M. Falkiewicz  for the Autism Gradients project at Brainhack Cambridge 2017"
     ]
    },
    {
     "cell_type": "code",
     "collapsed": false,
     "input": [
      "# first import the input list from the csv file\n",
      "import pandas as pd\n",
      "# read in csv\n",
      "df_phen = pd.read_csv('./data/SelectedSubjects.csv')\n",
      "selected = list(df_phen.filename_1D)"
     ],
     "language": "python",
     "metadata": {},
     "outputs": [],
     "prompt_number": 1
    },
    {
     "cell_type": "code",
     "collapsed": false,
     "input": [
      "len(selected)"
     ],
     "language": "python",
     "metadata": {},
     "outputs": [
      {
       "metadata": {},
       "output_type": "pyout",
       "prompt_number": 2,
       "text": [
        "160"
       ]
      }
     ],
     "prompt_number": 2
    },
    {
     "cell_type": "markdown",
     "metadata": {},
     "source": [
      "Run the back projection ysing pySTATIS"
     ]
    },
    {
     "cell_type": "code",
     "collapsed": false,
     "input": [
      "%%capture\n",
      "import numpy as np \n",
      "import os\n",
      "from pySTATIS import STATISData, ANISOSTATIS"
     ],
     "language": "python",
     "metadata": {},
     "outputs": [],
     "prompt_number": 4
    },
    {
     "cell_type": "code",
     "collapsed": false,
     "input": [
      "sbj_obj_list = []\n",
      "\n",
      "for i in selected:\n",
      "    \n",
      "    sbj_id  = i\n",
      "    \n",
      "    sbj_file = os.path.join(\"./data/Outputs/Embs/\" + sbj_id + '_embedding_dense_res_veconly.npy')\n",
      "    sbj_data = np.load(sbj_file)\n",
      "    sbj_obj  = STATISData(sbj_data, ID=sbj_id)\n",
      "\n",
      "    \"\"\"\n",
      "    STATISData\n",
      "    X: input variables for a single entity\n",
      "    ID: ID of the entity; can be a set\n",
      "    ev: eigenvalues of the X columns, in case that X are principal components\n",
      "    col_names, row_names: labels for rows and columns\n",
      "    normalize: normalization method to use (None, 'zscore', 'double_center')\n",
      "    hdf5: reference to hdf5 file\n",
      "    \"\"\"\n",
      "    \n",
      "    sbj_obj_list.append(sbj_obj)"
     ],
     "language": "python",
     "metadata": {},
     "outputs": [],
     "prompt_number": 5
    },
    {
     "cell_type": "code",
     "collapsed": false,
     "input": [
      "len(sbj_obj_list)"
     ],
     "language": "python",
     "metadata": {},
     "outputs": [
      {
       "metadata": {},
       "output_type": "pyout",
       "prompt_number": 6,
       "text": [
        "160"
       ]
      }
     ],
     "prompt_number": 6
    },
    {
     "cell_type": "code",
     "collapsed": false,
     "input": [
      "abide_statis = ANISOSTATIS(n_comps = 10)\n",
      "abide_statis.fit(sbj_obj_list)"
     ],
     "language": "python",
     "metadata": {},
     "outputs": [
      {
       "output_type": "stream",
       "stream": "stdout",
       "text": [
        "Stack datasets for GSVD...Done!\n",
        "Getting indices... Done!\n",
        "Observation masses: Done!\n",
        "Computing ANISOSTATIS Criterion 1 weights...Done!"
       ]
      },
      {
       "output_type": "stream",
       "stream": "stdout",
       "text": [
        "\n",
        "GSVD\n",
        "GSVD: Weights... Done!"
       ]
      },
      {
       "output_type": "stream",
       "stream": "stdout",
       "text": [
        "\n",
        "GSVD: SVD... Done!"
       ]
      },
      {
       "output_type": "stream",
       "stream": "stdout",
       "text": [
        "\n",
        "GSVD: Factor scores and eigenvalues... Done!"
       ]
      },
      {
       "output_type": "stream",
       "stream": "stdout",
       "text": [
        "\n",
        "Factor scores for observations... Done!\n",
        "Calculating factor scores for datasets... Done!\n",
        "Calculating contributions of observations... .Done!\n",
        "Calculating contributions of variables... Done!"
       ]
      },
      {
       "output_type": "stream",
       "stream": "stdout",
       "text": [
        "\n",
        "Calculating contributions of datasets... Done!\n",
        "Calculating partial inertias for the datasets... Done!\n",
        "STATIS finished successfully in 0.913 seconds\n"
       ]
      }
     ],
     "prompt_number": 7
    },
    {
     "cell_type": "code",
     "collapsed": false,
     "input": [
      "type(abide_statis.partial_factor_scores_)"
     ],
     "language": "python",
     "metadata": {},
     "outputs": [
      {
       "metadata": {},
       "output_type": "pyout",
       "prompt_number": 8,
       "text": [
        "numpy.ndarray"
       ]
      }
     ],
     "prompt_number": 8
    },
    {
     "cell_type": "code",
     "collapsed": false,
     "input": [
      "abide_statis.partial_factor_scores_.shape"
     ],
     "language": "python",
     "metadata": {},
     "outputs": [
      {
       "metadata": {},
       "output_type": "pyout",
       "prompt_number": 9,
       "text": [
        "(160, 392, 10)"
       ]
      }
     ],
     "prompt_number": 9
    },
    {
     "cell_type": "code",
     "collapsed": false,
     "input": [
      "out_array = abide_statis.partial_factor_scores_"
     ],
     "language": "python",
     "metadata": {},
     "outputs": [],
     "prompt_number": 10
    },
    {
     "cell_type": "code",
     "collapsed": false,
     "input": [
      "np.save(\"./data/Outputs/Mean_Vec.npy\", out_array)"
     ],
     "language": "python",
     "metadata": {},
     "outputs": [],
     "prompt_number": 11
    },
    {
     "cell_type": "code",
     "collapsed": false,
     "input": [],
     "language": "python",
     "metadata": {},
     "outputs": []
    },
    {
     "cell_type": "code",
     "collapsed": false,
     "input": [
      "### OLD VERSION\n",
      "#%%capture\n",
      "#from pySTATIS import statis\n",
      "#import numpy as np \n",
      "#import os\n",
      "\n",
      "##load vectors\n",
      "#names = list(xrange(392))\n",
      "#X = [np.load(\"./data/Outputs/Embs/\"+ os.path.basename(filename)+\"_embedding_dense_res_veconly.npy\") for filename in selected]\n",
      "#out = statis.statis(X, names, fname='./data/Outputs/statis_results.npy')\n",
      "#statis.project_back(X, out['Q'], path = \"./data/Outputs/Regs/\",fnames = selected)\n",
      "#np.save(\"./data/Outputs/Mean_Vec.npy\",out['F'])"
     ],
     "language": "python",
     "metadata": {},
     "outputs": [],
     "prompt_number": 26
    },
    {
     "cell_type": "code",
     "collapsed": true,
     "input": [],
     "language": "python",
     "metadata": {},
     "outputs": [],
     "prompt_number": null
    }
   ],
   "metadata": {}
  }
 ]
}